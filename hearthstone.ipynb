{
 "cells": [
  {
   "cell_type": "code",
   "execution_count": 1,
   "metadata": {
    "collapsed": false
   },
   "outputs": [],
   "source": [
    "import os\n",
    "import numpy as np\n",
    "import json\n",
    "import pandas as pd\n",
    "from collections import Counter\n",
    "import csv\n",
    "import matplotlib.pyplot as plt\n",
    "from sklearn import neighbors, metrics, grid_search, cross_validation\n",
    "import matplotlib.pyplot as plt\n",
    "##import seaborn as sns\n",
    "import statsmodels.api as sm\n",
    "import statsmodels.formula.api as smf\n",
    "from sklearn import feature_selection, linear_model\n",
    "import sklearn\n",
    "from sklearn.ensemble import RandomForestRegressor\n",
    "\n",
    "\n",
    "\n",
    "pd.set_option('display.max_rows', 10)\n",
    "pd.set_option('display.notebook_repr_html', True)\n",
    "pd.set_option('display.max_columns', 10)\n",
    "\n",
    "%matplotlib inline\n",
    "plt.style.use('ggplot')"
   ]
  },
  {
   "cell_type": "code",
   "execution_count": 9,
   "metadata": {
    "collapsed": false
   },
   "outputs": [],
   "source": [
    "data_df = pd.read_csv(os.path.join('data.csv'))"
   ]
  },
  {
   "cell_type": "code",
   "execution_count": null,
   "metadata": {
    "collapsed": false
   },
   "outputs": [],
   "source": [
    "with open('refs.json') as file:\n",
    "    refs = json.load(file)\n",
    "\n",
    "refs = pd.DataFrame(refs)"
   ]
  },
  {
   "cell_type": "code",
   "execution_count": null,
   "metadata": {
    "collapsed": false
   },
   "outputs": [],
   "source": [
    "data_df"
   ]
  },
  {
   "cell_type": "code",
   "execution_count": null,
   "metadata": {
    "collapsed": true
   },
   "outputs": [],
   "source": [
    "data_df['date'] = pd.to_datetime(data_df['date'])"
   ]
  },
  {
   "cell_type": "code",
   "execution_count": null,
   "metadata": {
    "collapsed": false
   },
   "outputs": [],
   "source": []
  },
  {
   "cell_type": "code",
   "execution_count": null,
   "metadata": {
    "collapsed": false
   },
   "outputs": [],
   "source": [
    "print np.average(data_df.craft_cost, weights=(data_df.deck_format == 'S'))\n",
    "print np.average(data_df.craft_cost, weights=(data_df.deck_format == 'W'))"
   ]
  },
  {
   "cell_type": "code",
   "execution_count": null,
   "metadata": {
    "collapsed": false
   },
   "outputs": [],
   "source": [
    "Counter(data_df.deck_format)"
   ]
  },
  {
   "cell_type": "code",
   "execution_count": null,
   "metadata": {
    "collapsed": false
   },
   "outputs": [],
   "source": [
    "plt.figure(figsize=(8,6))\n",
    "plt.scatter(data_df.craft_cost, np.sort(data_df.rating.values))\n",
    "plt.xlabel('rating', fontsize=12)\n",
    "plt.ylabel('craft_cost', fontsize=12)\n",
    "plt.show()"
   ]
  },
  {
   "cell_type": "code",
   "execution_count": null,
   "metadata": {
    "collapsed": false
   },
   "outputs": [],
   "source": [
    "plt.figure(figsize=(8,6))\n",
    "plt.scatter(data_df.craft_cost, np.sort(data_df.rating.values))\n",
    "plt.xlabel('rating', fontsize=12)\n",
    "plt.ylabel('craft_cost', fontsize=12)\n",
    "plt.show()"
   ]
  },
  {
   "cell_type": "code",
   "execution_count": null,
   "metadata": {
    "collapsed": false
   },
   "outputs": [],
   "source": [
    "print np.average(data_df.craft_cost, weights=(data_df.deck_class == 'Priest'))\n",
    "print np.average(data_df.craft_cost, weights=(data_df.deck_class == 'Warrior'))\n",
    "print np.average(data_df.craft_cost, weights=(data_df.deck_class == 'Mage'))\n",
    "print np.average(data_df.craft_cost, weights=(data_df.deck_class == 'Druid'))\n",
    "print np.average(data_df.craft_cost, weights=(data_df.deck_class == 'Warlock'))\n",
    "print np.average(data_df.craft_cost, weights=(data_df.deck_class == 'Hunter'))\n",
    "print np.average(data_df.craft_cost, weights=(data_df.deck_class == 'Rogue'))"
   ]
  },
  {
   "cell_type": "code",
   "execution_count": null,
   "metadata": {
    "collapsed": false
   },
   "outputs": [],
   "source": [
    "info_df = data_df.ix[:,0:11]"
   ]
  },
  {
   "cell_type": "code",
   "execution_count": null,
   "metadata": {
    "collapsed": false
   },
   "outputs": [],
   "source": [
    "info_df.head()"
   ]
  },
  {
   "cell_type": "code",
   "execution_count": null,
   "metadata": {
    "collapsed": false
   },
   "outputs": [],
   "source": [
    "Counter(data_df.deck_type)"
   ]
  },
  {
   "cell_type": "code",
   "execution_count": null,
   "metadata": {
    "collapsed": false
   },
   "outputs": [],
   "source": [
    "Counter(refs.race)"
   ]
  },
  {
   "cell_type": "code",
   "execution_count": null,
   "metadata": {
    "collapsed": false
   },
   "outputs": [],
   "source": []
  },
  {
   "cell_type": "markdown",
   "metadata": {},
   "source": [
    "# Releases and meta"
   ]
  },
  {
   "cell_type": "markdown",
   "metadata": {},
   "source": [
    "## Race"
   ]
  },
  {
   "cell_type": "code",
   "execution_count": 2,
   "metadata": {
    "collapsed": false
   },
   "outputs": [],
   "source": [
    "data_df = pd.read_csv(os.path.join('~/', 'Desktop','random code','portfolio','hearthstone', 'data.csv'))\n",
    "\n",
    "with open('refs.json') as file:\n",
    "    refs = json.load(file)\n",
    "\n",
    "refs = pd.DataFrame(refs)\n",
    "\n",
    "data_df['date'] = pd.to_datetime(data_df['date'])\n",
    "refs.race.fillna('Normal', inplace=True)\n",
    "data_df = data_df.drop(data_df.deck_type == 'Tavern Brawl')\n",
    "refs.cost.fillna(0,inplace=True)\n",
    "\n",
    "card_col = ['card_{}'.format(str(i)) for i in range(30)]"
   ]
  },
  {
   "cell_type": "code",
   "execution_count": 3,
   "metadata": {
    "collapsed": false
   },
   "outputs": [],
   "source": [
    "result = data_df\n",
    "result = result.reset_index(drop = True)\n",
    "\n",
    "for x in range(30):\n",
    "    result = pd.merge(result, refs, left_on = result[card_col[x]], right_on = refs.dbfId, how = 'left')"
   ]
  },
  {
   "cell_type": "code",
   "execution_count": 4,
   "metadata": {
    "collapsed": false
   },
   "outputs": [],
   "source": [
    "## creating Race columns and its sum\n",
    "\n",
    "races = refs.race.unique()\n",
    "race_df = pd.DataFrame(index=result.index)\n",
    "for x in range(len(races)):\n",
    "    race_df[races[x]] = 0\n",
    "    \n",
    "dum = [result['race_x'],result['race_y']]\n",
    "    \n",
    "for x in range(len(result)):\n",
    "    out = Counter(dum[0].ix[x]) + Counter(dum[1].ix[x])\n",
    "    for i in range(len(races)):\n",
    "        race_df = race_df.set_value(x, races[i], out[races[i]])"
   ]
  },
  {
   "cell_type": "code",
   "execution_count": 5,
   "metadata": {
    "collapsed": false
   },
   "outputs": [],
   "source": [
    "race_df['date'] = result.date\n",
    "race_df['deck_set'] = result.deck_set"
   ]
  },
  {
   "cell_type": "code",
   "execution_count": 40,
   "metadata": {
    "collapsed": false
   },
   "outputs": [],
   "source": [
    "rand_ex = race_df[race_df.deck_set == 'Explorers']\n",
    "rand_og = race_df[race_df.deck_set == 'Old Gods']\n",
    "rand_br = race_df[race_df.deck_set == 'Blackrock Launch']\n",
    "rand_gadge = race_df[race_df.deck_set == 'Gadgetzan']\n",
    "rand_kar = race_df[race_df.deck_set == 'Karazhan']\n",
    "rand_naxx = race_df[race_df.deck_set == 'Naxx Launch']\n",
    "rand_tgt = race_df[race_df.deck_set == 'TGT Launch']\n",
    "rand_gvg = race_df[race_df.deck_set == 'GVG Launch']\n",
    "\n",
    "race_df_groupby = race_df.groupby('deck_set')"
   ]
  },
  {
   "cell_type": "code",
   "execution_count": 19,
   "metadata": {
    "collapsed": false
   },
   "outputs": [
    {
     "data": {
      "image/png": "[encoded data removed]",
      "text/plain": [
       "<matplotlib.figure.Figure at 0x11838dd50>"
      ]
     },
     "metadata": {},
     "output_type": "display_data"
    }
   ],
   "source": [
    "a = range(len(rand_ex.sum()))\n",
    "b = rand_ex.mean()\n",
    "plt.bar(a, b)\n",
    "\n",
    "x = range(len(rand_og.sum()))\n",
    "y = rand_og.mean()\n",
    "my_xticks = rand_og.columns\n",
    "plt.xticks(x, my_xticks, rotation = 'vertical')\n",
    "plt.bar(x, y)\n",
    "\n",
    "\n",
    "plt.show()\n",
    "\n"
   ]
  },
  {
   "cell_type": "code",
   "execution_count": 33,
   "metadata": {
    "collapsed": false
   },
   "outputs": [
    {
     "data": {
      "image/png": "[encoded data removed]",
      "text/plain": [
       "<matplotlib.figure.Figure at 0x114399850>"
      ]
     },
     "metadata": {},
     "output_type": "display_data"
    }
   ],
   "source": [
    "lol = rand_og.drop('Normal', axis = 1)\n",
    "\n",
    "x = range(len(lol.sum()))\n",
    "y = lol.mean()\n",
    "my_xticks = lol.columns\n",
    "plt.xticks(x, my_xticks, rotation = 'vertical')\n",
    "plt.bar(x, y)\n",
    "\n",
    "\n",
    "plt.show()\n"
   ]
  },
  {
   "cell_type": "code",
   "execution_count": null,
   "metadata": {
    "collapsed": false
   },
   "outputs": [],
   "source": [
    "lol = rand_og.drop('Normal', axis = 1)\n",
    "\n",
    "x = range(len(lol.sum()))\n",
    "y = lol.mean()\n",
    "my_xticks = lol.columns\n",
    "plt.pie(x, y)\n",
    "\n",
    "\n",
    "plt.show()\n"
   ]
  },
  {
   "cell_type": "code",
   "execution_count": null,
   "metadata": {
    "collapsed": false
   },
   "outputs": [],
   "source": [
    "print 'hi'"
   ]
  },
  {
   "cell_type": "code",
   "execution_count": null,
   "metadata": {
    "collapsed": false
   },
   "outputs": [],
   "source": []
  },
  {
   "cell_type": "code",
   "execution_count": null,
   "metadata": {
    "collapsed": false
   },
   "outputs": [],
   "source": []
  },
  {
   "cell_type": "code",
   "execution_count": 9,
   "metadata": {
    "collapsed": false
   },
   "outputs": [],
   "source": []
  },
  {
   "cell_type": "code",
   "execution_count": null,
   "metadata": {
    "collapsed": false
   },
   "outputs": [],
   "source": [
    "\n"
   ]
  },
  {
   "cell_type": "code",
   "execution_count": null,
   "metadata": {
    "collapsed": false
   },
   "outputs": [],
   "source": []
  },
  {
   "cell_type": "code",
   "execution_count": null,
   "metadata": {
    "collapsed": false
   },
   "outputs": [],
   "source": []
  },
  {
   "cell_type": "code",
   "execution_count": null,
   "metadata": {
    "collapsed": false
   },
   "outputs": [],
   "source": []
  },
  {
   "cell_type": "code",
   "execution_count": null,
   "metadata": {
    "collapsed": false
   },
   "outputs": [],
   "source": []
  },
  {
   "cell_type": "code",
   "execution_count": null,
   "metadata": {
    "collapsed": false
   },
   "outputs": [],
   "source": []
  },
  {
   "cell_type": "code",
   "execution_count": null,
   "metadata": {
    "collapsed": false
   },
   "outputs": [],
   "source": [
    "data_df.columns"
   ]
  },
  {
   "cell_type": "code",
   "execution_count": null,
   "metadata": {
    "collapsed": false
   },
   "outputs": [],
   "source": [
    "refs.columns"
   ]
  },
  {
   "cell_type": "code",
   "execution_count": null,
   "metadata": {
    "collapsed": false
   },
   "outputs": [],
   "source": []
  },
  {
   "cell_type": "code",
   "execution_count": null,
   "metadata": {
    "collapsed": true
   },
   "outputs": [],
   "source": []
  }
 ],
 "metadata": {
  "kernelspec": {
   "display_name": "Python 2",
   "language": "python",
   "name": "python2"
  },
  "language_info": {
   "codemirror_mode": {
    "name": "ipython",
    "version": 2
   },
   "file_extension": ".py",
   "mimetype": "text/x-python",
   "name": "python",
   "nbconvert_exporter": "python",
   "pygments_lexer": "ipython2",
   "version": "2.7.11"
  }
 },
 "nbformat": 4,
 "nbformat_minor": 0
}
