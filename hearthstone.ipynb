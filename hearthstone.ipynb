{
 "cells": [
  {
   "cell_type": "markdown",
   "metadata": {},
   "source": [
    "This Notebook is mainly an exploratory analysis of the Hearthstone Dataset. The main focus is to clean and sort the data in order to make further analysis more efficient."
   ]
  },
  {
   "cell_type": "code",
   "execution_count": 2,
   "metadata": {
    "collapsed": false
   },
   "outputs": [],
   "source": [
    "## All the Libraries used\n",
    "\n",
    "import os\n",
    "import numpy as np\n",
    "import json\n",
    "import pandas as pd\n",
    "from collections import Counter\n",
    "import csv\n",
    "import matplotlib.pyplot as plt\n",
    "from sklearn import neighbors, metrics, grid_search, cross_validation\n",
    "import matplotlib.pyplot as plt\n",
    "##import seaborn as sns\n",
    "import statsmodels.api as sm\n",
    "import statsmodels.formula.api as smf\n",
    "from sklearn import feature_selection, linear_model\n",
    "import sklearn\n",
    "from sklearn.ensemble import RandomForestRegressor\n",
    "\n",
    "\n",
    "\n",
    "pd.set_option('display.max_rows', 10)\n",
    "pd.set_option('display.notebook_repr_html', True)\n",
    "pd.set_option('display.max_columns', 10)\n",
    "\n",
    "%matplotlib inline\n",
    "\n",
    "plt.style.use('ggplot')"
   ]
  },
  {
   "cell_type": "code",
   "execution_count": 3,
   "metadata": {
    "collapsed": false
   },
   "outputs": [
    {
     "data": {
      "text/html": [
       "<div>\n",
       "<table border=\"1\" class=\"dataframe\">\n",
       "  <thead>\n",
       "    <tr style=\"text-align: right;\">\n",
       "      <th></th>\n",
       "      <th>craft_cost</th>\n",
       "      <th>date</th>\n",
       "      <th>deck_archetype</th>\n",
       "      <th>deck_class</th>\n",
       "      <th>deck_format</th>\n",
       "      <th>...</th>\n",
       "      <th>card_25</th>\n",
       "      <th>card_26</th>\n",
       "      <th>card_27</th>\n",
       "      <th>card_28</th>\n",
       "      <th>card_29</th>\n",
       "    </tr>\n",
       "  </thead>\n",
       "  <tbody>\n",
       "    <tr>\n",
       "      <th>0</th>\n",
       "      <td>9740</td>\n",
       "      <td>2016-02-19</td>\n",
       "      <td>Unknown</td>\n",
       "      <td>Priest</td>\n",
       "      <td>W</td>\n",
       "      <td>...</td>\n",
       "      <td>2582</td>\n",
       "      <td>2683</td>\n",
       "      <td>2736</td>\n",
       "      <td>2568</td>\n",
       "      <td>2883</td>\n",
       "    </tr>\n",
       "    <tr>\n",
       "      <th>1</th>\n",
       "      <td>9840</td>\n",
       "      <td>2016-02-19</td>\n",
       "      <td>Unknown</td>\n",
       "      <td>Warrior</td>\n",
       "      <td>W</td>\n",
       "      <td>...</td>\n",
       "      <td>2064</td>\n",
       "      <td>2078</td>\n",
       "      <td>2510</td>\n",
       "      <td>2729</td>\n",
       "      <td>2736</td>\n",
       "    </tr>\n",
       "    <tr>\n",
       "      <th>2</th>\n",
       "      <td>2600</td>\n",
       "      <td>2016-02-19</td>\n",
       "      <td>Unknown</td>\n",
       "      <td>Mage</td>\n",
       "      <td>W</td>\n",
       "      <td>...</td>\n",
       "      <td>2064</td>\n",
       "      <td>2064</td>\n",
       "      <td>2078</td>\n",
       "      <td>38710</td>\n",
       "      <td>38710</td>\n",
       "    </tr>\n",
       "    <tr>\n",
       "      <th>3</th>\n",
       "      <td>15600</td>\n",
       "      <td>2016-02-19</td>\n",
       "      <td>Unknown</td>\n",
       "      <td>Warrior</td>\n",
       "      <td>W</td>\n",
       "      <td>...</td>\n",
       "      <td>336</td>\n",
       "      <td>2729</td>\n",
       "      <td>2729</td>\n",
       "      <td>2736</td>\n",
       "      <td>2760</td>\n",
       "    </tr>\n",
       "    <tr>\n",
       "      <th>4</th>\n",
       "      <td>7700</td>\n",
       "      <td>2016-02-19</td>\n",
       "      <td>Unknown</td>\n",
       "      <td>Paladin</td>\n",
       "      <td>W</td>\n",
       "      <td>...</td>\n",
       "      <td>374</td>\n",
       "      <td>2717</td>\n",
       "      <td>2717</td>\n",
       "      <td>2889</td>\n",
       "      <td>2889</td>\n",
       "    </tr>\n",
       "    <tr>\n",
       "      <th>...</th>\n",
       "      <td>...</td>\n",
       "      <td>...</td>\n",
       "      <td>...</td>\n",
       "      <td>...</td>\n",
       "      <td>...</td>\n",
       "      <td>...</td>\n",
       "      <td>...</td>\n",
       "      <td>...</td>\n",
       "      <td>...</td>\n",
       "      <td>...</td>\n",
       "      <td>...</td>\n",
       "    </tr>\n",
       "    <tr>\n",
       "      <th>346227</th>\n",
       "      <td>5480</td>\n",
       "      <td>2016-04-25</td>\n",
       "      <td>Unknown</td>\n",
       "      <td>Paladin</td>\n",
       "      <td>S</td>\n",
       "      <td>...</td>\n",
       "      <td>38745</td>\n",
       "      <td>38781</td>\n",
       "      <td>38781</td>\n",
       "      <td>38911</td>\n",
       "      <td>38911</td>\n",
       "    </tr>\n",
       "    <tr>\n",
       "      <th>346228</th>\n",
       "      <td>3840</td>\n",
       "      <td>2016-02-07</td>\n",
       "      <td>Unknown</td>\n",
       "      <td>Rogue</td>\n",
       "      <td>S</td>\n",
       "      <td>...</td>\n",
       "      <td>1158</td>\n",
       "      <td>1372</td>\n",
       "      <td>1651</td>\n",
       "      <td>2884</td>\n",
       "      <td>2884</td>\n",
       "    </tr>\n",
       "    <tr>\n",
       "      <th>346229</th>\n",
       "      <td>5580</td>\n",
       "      <td>2016-02-07</td>\n",
       "      <td>Unknown</td>\n",
       "      <td>Paladin</td>\n",
       "      <td>W</td>\n",
       "      <td>...</td>\n",
       "      <td>2883</td>\n",
       "      <td>2889</td>\n",
       "      <td>2901</td>\n",
       "      <td>2949</td>\n",
       "      <td>2951</td>\n",
       "    </tr>\n",
       "    <tr>\n",
       "      <th>346230</th>\n",
       "      <td>5160</td>\n",
       "      <td>2016-02-07</td>\n",
       "      <td>Unknown</td>\n",
       "      <td>Druid</td>\n",
       "      <td>S</td>\n",
       "      <td>...</td>\n",
       "      <td>2782</td>\n",
       "      <td>2782</td>\n",
       "      <td>2948</td>\n",
       "      <td>38319</td>\n",
       "      <td>38319</td>\n",
       "    </tr>\n",
       "    <tr>\n",
       "      <th>346231</th>\n",
       "      <td>1260</td>\n",
       "      <td>2016-02-07</td>\n",
       "      <td>Unknown</td>\n",
       "      <td>Warlock</td>\n",
       "      <td>W</td>\n",
       "      <td>...</td>\n",
       "      <td>2013</td>\n",
       "      <td>2288</td>\n",
       "      <td>2288</td>\n",
       "      <td>2895</td>\n",
       "      <td>2895</td>\n",
       "    </tr>\n",
       "  </tbody>\n",
       "</table>\n",
       "<p>346232 rows × 41 columns</p>\n",
       "</div>"
      ],
      "text/plain": [
       "        craft_cost        date deck_archetype deck_class deck_format   ...    \\\n",
       "0             9740  2016-02-19        Unknown     Priest           W   ...     \n",
       "1             9840  2016-02-19        Unknown    Warrior           W   ...     \n",
       "2             2600  2016-02-19        Unknown       Mage           W   ...     \n",
       "3            15600  2016-02-19        Unknown    Warrior           W   ...     \n",
       "4             7700  2016-02-19        Unknown    Paladin           W   ...     \n",
       "...            ...         ...            ...        ...         ...   ...     \n",
       "346227        5480  2016-04-25        Unknown    Paladin           S   ...     \n",
       "346228        3840  2016-02-07        Unknown      Rogue           S   ...     \n",
       "346229        5580  2016-02-07        Unknown    Paladin           W   ...     \n",
       "346230        5160  2016-02-07        Unknown      Druid           S   ...     \n",
       "346231        1260  2016-02-07        Unknown    Warlock           W   ...     \n",
       "\n",
       "        card_25 card_26 card_27  card_28 card_29  \n",
       "0          2582    2683    2736     2568    2883  \n",
       "1          2064    2078    2510     2729    2736  \n",
       "2          2064    2064    2078    38710   38710  \n",
       "3           336    2729    2729     2736    2760  \n",
       "4           374    2717    2717     2889    2889  \n",
       "...         ...     ...     ...      ...     ...  \n",
       "346227    38745   38781   38781    38911   38911  \n",
       "346228     1158    1372    1651     2884    2884  \n",
       "346229     2883    2889    2901     2949    2951  \n",
       "346230     2782    2782    2948    38319   38319  \n",
       "346231     2013    2288    2288     2895    2895  \n",
       "\n",
       "[346232 rows x 41 columns]"
      ]
     },
     "execution_count": 3,
     "metadata": {},
     "output_type": "execute_result"
    }
   ],
   "source": [
    "## reading heartpwn dataset\n",
    "\n",
    "data_df = pd.read_csv(os.path.join('data.csv'))\n",
    "data_df"
   ]
  },
  {
   "cell_type": "code",
   "execution_count": 4,
   "metadata": {
    "collapsed": false
   },
   "outputs": [],
   "source": [
    "## reading card dataset\n",
    "\n",
    "with open('refs.json') as file:\n",
    "    refs = json.load(file)\n",
    "\n",
    "refs = pd.DataFrame(refs)"
   ]
  },
  {
   "cell_type": "code",
   "execution_count": 5,
   "metadata": {
    "collapsed": true
   },
   "outputs": [],
   "source": [
    "data_df['date'] = pd.to_datetime(data_df['date'])"
   ]
  },
  {
   "cell_type": "markdown",
   "metadata": {
    "collapsed": false
   },
   "source": [
    "# Primary Analysis"
   ]
  },
  {
   "cell_type": "code",
   "execution_count": 6,
   "metadata": {
    "collapsed": false
   },
   "outputs": [
    {
     "name": "stdout",
     "output_type": "stream",
     "text": [
      "6020.33807806\n",
      "5280.34209956\n"
     ]
    }
   ],
   "source": [
    "print np.average(data_df.craft_cost, weights=(data_df.deck_format == 'S'))\n",
    "print np.average(data_df.craft_cost, weights=(data_df.deck_format == 'W'))"
   ]
  },
  {
   "cell_type": "markdown",
   "metadata": {},
   "source": [
    "On average, Standard decks cost more dust than Wild decks."
   ]
  },
  {
   "cell_type": "code",
   "execution_count": 7,
   "metadata": {
    "collapsed": false
   },
   "outputs": [
    {
     "data": {
      "text/plain": [
       "Counter({'S': 170786, 'W': 175446})"
      ]
     },
     "execution_count": 7,
     "metadata": {},
     "output_type": "execute_result"
    }
   ],
   "source": [
    "Counter(data_df.deck_format)"
   ]
  },
  {
   "cell_type": "code",
   "execution_count": 8,
   "metadata": {
    "collapsed": false
   },
   "outputs": [
    {
     "data": {
      "image/png": "[encoded data removed]",
      "text/plain": [
       "<matplotlib.figure.Figure at 0x118b47890>"
      ]
     },
     "metadata": {},
     "output_type": "display_data"
    }
   ],
   "source": [
    "plt.figure(figsize=(8,6))\n",
    "plt.scatter(data_df.craft_cost, np.sort(data_df.rating.values))\n",
    "plt.xlabel('craft cost', fontsize=12)\n",
    "plt.ylabel('rating', fontsize=12)\n",
    "plt.show()"
   ]
  },
  {
   "cell_type": "code",
   "execution_count": 16,
   "metadata": {
    "collapsed": false
   },
   "outputs": [
    {
     "data": {
      "text/plain": [
       "<matplotlib.axes._subplots.AxesSubplot at 0x11887d910>"
      ]
     },
     "execution_count": 16,
     "metadata": {},
     "output_type": "execute_result"
    },
    {
     "data": {
      "image/png": "[encoded data removed]",
      "text/plain": [
       "<matplotlib.figure.Figure at 0x118c88890>"
      ]
     },
     "metadata": {},
     "output_type": "display_data"
    }
   ],
   "source": [
    "c = data_df.craft_cost.groupby(data_df.deck_class).mean()\n",
    "c.sort_values(inplace=True)\n",
    "c.plot(kind = 'bar')"
   ]
  },
  {
   "cell_type": "markdown",
   "metadata": {},
   "source": [
    "From the graph, Warrior decks often cost the most to craft, whilst Hunter decks are the cheapest"
   ]
  },
  {
   "cell_type": "code",
   "execution_count": 29,
   "metadata": {
    "collapsed": false
   },
   "outputs": [
    {
     "data": {
      "text/plain": [
       "<matplotlib.axes._subplots.AxesSubplot at 0x11e3ad150>"
      ]
     },
     "execution_count": 29,
     "metadata": {},
     "output_type": "execute_result"
    },
    {
     "data": {
      "image/png": "[encoded data removed]",
      "text/plain": [
       "<matplotlib.figure.Figure at 0x11d6c6350>"
      ]
     },
     "metadata": {},
     "output_type": "display_data"
    }
   ],
   "source": [
    "c = data_df.craft_cost.groupby(data_df.deck_set).mean()\n",
    "c.sort_values(inplace=True, ascending = False)\n",
    "c[:15].plot(kind = 'bar')"
   ]
  },
  {
   "cell_type": "markdown",
   "metadata": {},
   "source": [
    "# Further Analysis\n",
    "\n",
    "\n",
    "## Releases and meta"
   ]
  },
  {
   "cell_type": "markdown",
   "metadata": {},
   "source": [
    "## Race"
   ]
  },
  {
   "cell_type": "code",
   "execution_count": 10,
   "metadata": {
    "collapsed": false
   },
   "outputs": [],
   "source": [
    "data_df = pd.read_csv(os.path.join('data.csv'))\n",
    "\n",
    "with open('refs.json') as file:\n",
    "    refs = json.load(file)\n",
    "\n",
    "refs = pd.DataFrame(refs)\n",
    "\n",
    "data_df['date'] = pd.to_datetime(data_df['date'])\n",
    "refs.race.fillna('Normal', inplace=True)\n",
    "data_df = data_df.drop(data_df.deck_type == 'Tavern Brawl')\n",
    "refs.cost.fillna(0,inplace=True)\n",
    "\n",
    "card_col = ['card_{}'.format(str(i)) for i in range(30)]"
   ]
  },
  {
   "cell_type": "code",
   "execution_count": 30,
   "metadata": {
    "collapsed": false
   },
   "outputs": [],
   "source": [
    "result = data_df.copy()\n",
    "result = result.reset_index(drop = True)\n",
    "\n",
    "for x in range(30):\n",
    "    result = pd.merge(result, refs, left_on = result[card_col[x]], right_on = refs.dbfId, how = 'left')"
   ]
  },
  {
   "cell_type": "code",
   "execution_count": null,
   "metadata": {
    "collapsed": false
   },
   "outputs": [],
   "source": [
    "## creating Race columns and its sum\n",
    "\n",
    "races = refs.race.unique()\n",
    "race_df = pd.DataFrame(index=result.index)\n",
    "for x in range(len(races)):\n",
    "    race_df[races[x]] = 0\n",
    "    \n",
    "dum = [result['race_x'],result['race_y']]\n",
    "    \n",
    "for x in range(len(result)):\n",
    "    out = Counter(dum[0].ix[x]) + Counter(dum[1].ix[x])\n",
    "    for i in range(len(races)):\n",
    "        race_df = race_df.set_value(x, races[i], out[races[i]])"
   ]
  },
  {
   "cell_type": "code",
   "execution_count": null,
   "metadata": {
    "collapsed": false
   },
   "outputs": [],
   "source": [
    "race_df['date'] = result.date\n",
    "race_df['deck_set'] = result.deck_set"
   ]
  },
  {
   "cell_type": "code",
   "execution_count": null,
   "metadata": {
    "collapsed": false
   },
   "outputs": [],
   "source": [
    "rand_ex = race_df[race_df.deck_set == 'Explorers']\n",
    "rand_og = race_df[race_df.deck_set == 'Old Gods']\n",
    "rand_br = race_df[race_df.deck_set == 'Blackrock Launch']\n",
    "rand_gadge = race_df[race_df.deck_set == 'Gadgetzan']\n",
    "rand_kar = race_df[race_df.deck_set == 'Karazhan']\n",
    "rand_naxx = race_df[race_df.deck_set == 'Naxx Launch']\n",
    "rand_tgt = race_df[race_df.deck_set == 'TGT Launch']\n",
    "rand_gvg = race_df[race_df.deck_set == 'GVG Launch']\n",
    "\n",
    "race_df_groupby = race_df.groupby('deck_set')"
   ]
  },
  {
   "cell_type": "code",
   "execution_count": null,
   "metadata": {
    "collapsed": false
   },
   "outputs": [],
   "source": [
    "a = range(len(rand_ex.sum()))\n",
    "b = rand_ex.mean()\n",
    "plt.bar(a, b)\n",
    "\n",
    "x = range(len(rand_og.sum()))\n",
    "y = rand_og.mean()\n",
    "my_xticks = rand_og.columns\n",
    "plt.xticks(x, my_xticks, rotation = 'vertical')\n",
    "plt.bar(x, y)\n",
    "\n",
    "\n",
    "plt.show()\n",
    "\n"
   ]
  },
  {
   "cell_type": "code",
   "execution_count": null,
   "metadata": {
    "collapsed": false
   },
   "outputs": [],
   "source": [
    "lol = rand_og.drop('Normal', axis = 1)\n",
    "\n",
    "x = range(len(lol.sum()))\n",
    "y = lol.mean()\n",
    "my_xticks = lol.columns\n",
    "plt.xticks(x, my_xticks, rotation = 'vertical')\n",
    "plt.bar(x, y)\n",
    "\n",
    "\n",
    "plt.show()\n"
   ]
  },
  {
   "cell_type": "code",
   "execution_count": null,
   "metadata": {
    "collapsed": false
   },
   "outputs": [],
   "source": [
    "lol = rand_og.drop('Normal', axis = 1)\n",
    "\n",
    "x = range(len(lol.sum()))\n",
    "y = lol.mean()\n",
    "my_xticks = lol.columns\n",
    "plt.pie(x, y)\n",
    "\n",
    "\n",
    "plt.show()\n"
   ]
  },
  {
   "cell_type": "code",
   "execution_count": null,
   "metadata": {
    "collapsed": false
   },
   "outputs": [],
   "source": [
    "test = race_df.groupby(race_df.deck_set)"
   ]
  },
  {
   "cell_type": "code",
   "execution_count": null,
   "metadata": {
    "collapsed": false
   },
   "outputs": [],
   "source": []
  },
  {
   "cell_type": "code",
   "execution_count": null,
   "metadata": {
    "collapsed": false
   },
   "outputs": [],
   "source": [
    "Counter(race_df.deck_set).most_common(15)"
   ]
  },
  {
   "cell_type": "code",
   "execution_count": null,
   "metadata": {
    "collapsed": false
   },
   "outputs": [],
   "source": [
    "trial = race_df.copy()"
   ]
  },
  {
   "cell_type": "code",
   "execution_count": null,
   "metadata": {
    "collapsed": false
   },
   "outputs": [],
   "source": [
    "threshold = 5000 # Anything that occurs less than this will be removed.\n",
    "value_counts = trial['deck_set'].value_counts() # Specific column \n",
    "to_remove = value_counts[value_counts <= threshold].index\n",
    "trial['deck_set'].replace(to_remove, np.nan, inplace=True)\n",
    "trial = trial.drop(data_df.deck_type == 'nan')\n"
   ]
  },
  {
   "cell_type": "code",
   "execution_count": null,
   "metadata": {
    "collapsed": false
   },
   "outputs": [],
   "source": [
    "Counter(trial.deck_set)"
   ]
  },
  {
   "cell_type": "code",
   "execution_count": null,
   "metadata": {
    "collapsed": false
   },
   "outputs": [],
   "source": [
    "Counter(race_df.deck_set)"
   ]
  },
  {
   "cell_type": "code",
   "execution_count": null,
   "metadata": {
    "collapsed": false
   },
   "outputs": [],
   "source": [
    "trial = trial.dropna(how = 'any')"
   ]
  },
  {
   "cell_type": "code",
   "execution_count": null,
   "metadata": {
    "collapsed": false
   },
   "outputs": [],
   "source": [
    "trial.groupby(trial.deck_set)"
   ]
  },
  {
   "cell_type": "code",
   "execution_count": null,
   "metadata": {
    "collapsed": false
   },
   "outputs": [],
   "source": []
  },
  {
   "cell_type": "code",
   "execution_count": null,
   "metadata": {
    "collapsed": false
   },
   "outputs": [],
   "source": [
    "data_df.columns"
   ]
  },
  {
   "cell_type": "code",
   "execution_count": null,
   "metadata": {
    "collapsed": false
   },
   "outputs": [],
   "source": [
    "refs.columns"
   ]
  },
  {
   "cell_type": "code",
   "execution_count": null,
   "metadata": {
    "collapsed": false
   },
   "outputs": [],
   "source": []
  },
  {
   "cell_type": "code",
   "execution_count": null,
   "metadata": {
    "collapsed": true
   },
   "outputs": [],
   "source": []
  }
 ],
 "metadata": {
  "kernelspec": {
   "display_name": "Python 2",
   "language": "python",
   "name": "python2"
  },
  "language_info": {
   "codemirror_mode": {
    "name": "ipython",
    "version": 2
   },
   "file_extension": ".py",
   "mimetype": "text/x-python",
   "name": "python",
   "nbconvert_exporter": "python",
   "pygments_lexer": "ipython2",
   "version": "2.7.11"
  }
 },
 "nbformat": 4,
 "nbformat_minor": 0
}
